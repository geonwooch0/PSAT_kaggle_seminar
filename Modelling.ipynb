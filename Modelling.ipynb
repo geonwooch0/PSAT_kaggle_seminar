{
 "cells": [
  {
   "cell_type": "code",
   "execution_count": 7,
   "id": "9e19be67",
   "metadata": {},
   "outputs": [],
   "source": [
    "# 라이브러리 \n",
    "\n",
    "import numpy as np\n",
    "import pandas as pd\n",
    "import lightgbm as lgb\n",
    "from tqdm import tqdm\n",
    "from collections import Counter\n",
    "from sklearn.metrics import f1_score\n",
    "from sklearn.model_selection import StratifiedKFold,KFold\n",
    "from sklearn.model_selection import train_test_split\n",
    "\n",
    "\n",
    "import warnings\n",
    "warnings.filterwarnings('ignore')\n",
    "np.random.seed(42)"
   ]
  },
  {
   "cell_type": "code",
   "execution_count": 4,
   "id": "befc5614",
   "metadata": {},
   "outputs": [],
   "source": [
    "# 데이터 불러오기\n",
    "\n",
    "train = pd.read_csv('train.csv')\n",
    "test = pd.read_csv('test.csv')\n",
    "train = train.drop(['ID_code'],1)\n",
    "test = test.drop(['ID_code'],1)\n",
    "\n",
    "# train data의 feature 변수와 target 변수 분리\n",
    "X = train.drop(['target'], axis=1)\n",
    "y = train['target']"
   ]
  },
  {
   "cell_type": "code",
   "execution_count": 12,
   "id": "0324729c",
   "metadata": {},
   "outputs": [
    {
     "name": "stdout",
     "output_type": "stream",
     "text": [
      "Counter({0: 143922, 1: 47494})\n"
     ]
    }
   ],
   "source": [
    "# 클래스 불균형을 해소하기 위한 oversampling\n",
    "\n",
    "from imblearn.over_sampling import RandomOverSampler\n",
    "\n",
    "oversample = RandomOverSampler(sampling_strategy=0.33,random_state= 42)\n",
    "X_over, y_over = oversample.fit_resample(X, y)\n",
    "\n",
    "# 샘플링 후 클래스 0과 클래스 1의 갯수 확인 \n",
    "\n",
    "print(Counter(y_over))"
   ]
  },
  {
   "cell_type": "code",
   "execution_count": 13,
   "id": "ec13bfa4",
   "metadata": {},
   "outputs": [],
   "source": [
    "# train - test로 데이터 split\n",
    "\n",
    "from sklearn.model_selection import train_test_split\n",
    "train_x, test_x, train_y, test_y = train_test_split(X_over, y_over, test_size=0.2, random_state=42)\n"
   ]
  },
  {
   "cell_type": "code",
   "execution_count": 14,
   "id": "57c83822",
   "metadata": {},
   "outputs": [
    {
     "name": "stdout",
     "output_type": "stream",
     "text": [
      "[LightGBM] [Warning] seed is set=500, random_state=1 will be ignored. Current value: seed=500\n",
      "[LightGBM] [Warning] feature_fraction is set=1, colsample_bytree=1 will be ignored. Current value: feature_fraction=1\n",
      "[LightGBM] [Warning] bagging_fraction is set=0.85, subsample=0.8 will be ignored. Current value: bagging_fraction=0.85\n",
      "[LightGBM] [Warning] num_threads is set=8, n_jobs=-1 will be ignored. Current value: num_threads=8\n",
      "[LightGBM] [Warning] bagging_freq is set=1, subsample_freq=0 will be ignored. Current value: bagging_freq=1\n",
      "0.8686427395972103\n",
      "0.7988496157221074\n"
     ]
    }
   ],
   "source": [
    "# RandomSearchCV()를 통해 최적 파라미터 설정 후 모델 생성\n",
    "\n",
    "clf = lgb.LGBMClassifier(bagging_fraction=0.85, bagging_freq=1, colsample_bytree=1,\n",
    "               feature_fraction=1, importance_type='split',\n",
    "               learning_rate=0.1, max_bin=256, max_depth=1,\n",
    "               min_child_samples=153, min_child_weight=0.1,\n",
    "               n_estimators=4000, n_jobs=-1, num_leaves=4, num_threads=8,\n",
    "               objective='binary', reg_alpha=0.1,\n",
    "               reg_lambda=0, seed=500, silent=True, subsample=0.8)\n",
    "\n",
    "#모델 적합\n",
    "\n",
    "clf.fit(train_x, train_y)\n",
    "pred = clf.predict(test_x)\n",
    "\n",
    "\n",
    "# validation set으로 계산한 accuracy와 f1 score\n",
    "\n",
    "print(clf.score(train_x, train_y))\n",
    "print(f1_score(test_y, pred, average='macro'))\n"
   ]
  },
  {
   "cell_type": "code",
   "execution_count": null,
   "id": "1bbfa181",
   "metadata": {},
   "outputs": [],
   "source": []
  }
 ],
 "metadata": {
  "kernelspec": {
   "display_name": "Python 3 (ipykernel)",
   "language": "python",
   "name": "python3"
  },
  "language_info": {
   "codemirror_mode": {
    "name": "ipython",
    "version": 3
   },
   "file_extension": ".py",
   "mimetype": "text/x-python",
   "name": "python",
   "nbconvert_exporter": "python",
   "pygments_lexer": "ipython3",
   "version": "3.9.12"
  }
 },
 "nbformat": 4,
 "nbformat_minor": 5
}
